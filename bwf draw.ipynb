{
 "cells": [
  {
   "attachments": {},
   "cell_type": "markdown",
   "id": "ef92b76f",
   "metadata": {},
   "source": []
  },
  {
   "cell_type": "code",
   "execution_count": 1,
   "id": "b1f91874",
   "metadata": {},
   "outputs": [],
   "source": [
    "import pandas as pd\n",
    "import numpy as np\n",
    "from random import shuffle"
   ]
  },
  {
   "cell_type": "code",
   "execution_count": null,
   "id": "b5097d26",
   "metadata": {},
   "outputs": [],
   "source": [
    "# set lists\n",
    "l_seed = [*range(3,9,1)]\n",
    "l_nonseed = [*range(9,33,1)]"
   ]
  },
  {
   "cell_type": "code",
   "execution_count": null,
   "id": "d18e6766",
   "metadata": {},
   "outputs": [],
   "source": [
    "# shuffle lists to randomly distribute players\n",
    "shuffle(l_seed)\n",
    "shuffle(l_nonseed)"
   ]
  },
  {
   "cell_type": "code",
   "execution_count": null,
   "id": "d9719862",
   "metadata": {},
   "outputs": [],
   "source": [
    "# insert no.1 & 2 seed\n",
    "l_nonseed.insert(0,1) \n",
    "l_nonseed.insert(25,2)"
   ]
  },
  {
   "cell_type": "code",
   "execution_count": null,
   "id": "4905af92",
   "metadata": {},
   "outputs": [],
   "source": [
    "# insert no.3-8 seed\n",
    "l_nonseed.insert(4,l_seed[0])\n",
    "l_nonseed.insert(8,l_seed[1])\n",
    "l_nonseed.insert(12,l_seed[2])\n",
    "l_nonseed.insert(19,l_seed[3])\n",
    "l_nonseed.insert(23,l_seed[4])\n",
    "l_nonseed.insert(27,l_seed[5])\n",
    "\n",
    "l_all = [str(x) for x in l_nonseed]"
   ]
  },
  {
   "cell_type": "code",
   "execution_count": null,
   "id": "ad7194b0",
   "metadata": {},
   "outputs": [],
   "source": [
    "# split list into chunks at the length of 2 and 4\n",
    "chunked_l_2 = []\n",
    "for i in range(0,32,2):\n",
    "    chunked_l_2.append(l_all[i:i+2])\n",
    "\n",
    "chunked_l_4 = []\n",
    "for i in range(0,32,4):\n",
    "    chunked_l_4.append(l_all[i:i+4])\n",
    "print(chunked_l_2)\n",
    "print(chunked_l_4)"
   ]
  },
  {
   "cell_type": "code",
   "execution_count": null,
   "id": "1ad13e60",
   "metadata": {},
   "outputs": [],
   "source": [
    "# get Chinese players rankings\n",
    "\n",
    "# 4 CHEN Yufei\n",
    "# 9 HE Bingjiao\n",
    "# 14 Wang Zhiyi\n",
    "# 23 HAN Yue\n",
    "# 32 ZHANG Yiman \n",
    "\n",
    "CHN = [4,9,14,23,32]\n",
    "CHN = [str(x) for x in CHN]"
   ]
  },
  {
   "cell_type": "code",
   "execution_count": null,
   "id": "d20db655",
   "metadata": {},
   "outputs": [],
   "source": [
    "# will meet in the first round?\n",
    "meet_1 = 0\n",
    "for chunk in chunked_l_2:\n",
    "    n = [i for i in chunk if i in CHN]\n",
    "    if len(n) > 1:\n",
    "        meet_1 = 1\n",
    "meet_1"
   ]
  },
  {
   "cell_type": "code",
   "execution_count": null,
   "id": "4477685e",
   "metadata": {},
   "outputs": [],
   "source": [
    "# will meet in the second round?\n",
    "meet_2 = 0\n",
    "for chunk in chunked_l_4:\n",
    "    n = [i for i in chunk if i in CHN]\n",
    "    if len(n) > 1:\n",
    "        meet_2 = 1\n",
    "meet_2"
   ]
  },
  {
   "cell_type": "code",
   "execution_count": 2,
   "id": "5c73974e",
   "metadata": {},
   "outputs": [],
   "source": [
    "def meet_first_round():\n",
    "    \n",
    "    # set lists\n",
    "    l_seed = [*range(3,9,1)]\n",
    "    l_nonseed = [*range(9,33,1)]\n",
    "    \n",
    "    # shuffle lists to randomly distribute players\n",
    "    shuffle(l_seed)\n",
    "    shuffle(l_nonseed)\n",
    "    \n",
    "    # insert no.1 & 2 seed\n",
    "    l_nonseed.insert(0,1) \n",
    "    l_nonseed.insert(25,2)\n",
    "    \n",
    "    # insert no.3-8 seed\n",
    "    l_nonseed.insert(4,l_seed[0])\n",
    "    l_nonseed.insert(8,l_seed[1])\n",
    "    l_nonseed.insert(12,l_seed[2])\n",
    "    l_nonseed.insert(19,l_seed[3])\n",
    "    l_nonseed.insert(23,l_seed[4])\n",
    "    l_nonseed.insert(27,l_seed[5])\n",
    "    l_all = [str(x) for x in l_nonseed]\n",
    "    \n",
    "    # split list into chunks at the length of 2\n",
    "    chunked_l_2 = []\n",
    "    for i in range(0,32,2):\n",
    "        chunked_l_2.append(l_all[i:i+2])\n",
    "    \n",
    "    # get Chinese players rankings\n",
    "    CHN = [4,9,14,23,32]\n",
    "    CHN = [str(x) for x in CHN]\n",
    "\n",
    "    # will meet in the first round?\n",
    "    meet_1 = 0\n",
    "    for chunk in chunked_l_2:\n",
    "        n = [i for i in chunk if i in CHN]\n",
    "        if len(n) > 1:\n",
    "            meet_1 = 1\n",
    "    return meet_1"
   ]
  },
  {
   "cell_type": "code",
   "execution_count": 3,
   "id": "3c781537",
   "metadata": {},
   "outputs": [],
   "source": [
    "def meet_second_round():\n",
    "    \n",
    "    # set lists\n",
    "    l_seed = [*range(3,9,1)]\n",
    "    l_nonseed = [*range(9,33,1)]\n",
    "    \n",
    "    # shuffle lists to randomly distribute players\n",
    "    shuffle(l_seed)\n",
    "    shuffle(l_nonseed)\n",
    "    \n",
    "    # insert no.1 & 2 seed\n",
    "    l_nonseed.insert(0,1) \n",
    "    l_nonseed.insert(25,2)\n",
    "    \n",
    "    # insert no.3-8 seed\n",
    "    l_nonseed.insert(4,l_seed[0])\n",
    "    l_nonseed.insert(8,l_seed[1])\n",
    "    l_nonseed.insert(12,l_seed[2])\n",
    "    l_nonseed.insert(19,l_seed[3])\n",
    "    l_nonseed.insert(23,l_seed[4])\n",
    "    l_nonseed.insert(27,l_seed[5])\n",
    "    l_all = [str(x) for x in l_nonseed]\n",
    "    \n",
    "    # split list into chunks at the length of 4\n",
    "    chunked_l_4 = []\n",
    "    for i in range(0,32,4):\n",
    "        chunked_l_4.append(l_all[i:i+4])\n",
    "    \n",
    "    # get Chinese players rankings\n",
    "    CHN = [4,9,14,23,32]\n",
    "    CHN = [str(x) for x in CHN]\n",
    "\n",
    "    # will meet in the second round?\n",
    "    meet_2 = 0\n",
    "    for chunk in chunked_l_4:\n",
    "        n = [i for i in chunk if i in CHN]\n",
    "        if len(n) > 1:\n",
    "            meet_2 = 1\n",
    "    return meet_2"
   ]
  },
  {
   "cell_type": "code",
   "execution_count": 4,
   "id": "4e7df617",
   "metadata": {},
   "outputs": [],
   "source": [
    "def average_result(times, function):\n",
    "    \n",
    "    total = 0\n",
    "    for i in range(times): \n",
    "        result = function() # bracket should be added here to re-run the function every time in the loop\n",
    "        total += result\n",
    "    mean = total/times\n",
    "    return mean"
   ]
  },
  {
   "cell_type": "code",
   "execution_count": 5,
   "id": "cc4762bc",
   "metadata": {},
   "outputs": [
    {
     "data": {
      "text/plain": [
       "0.322421"
      ]
     },
     "execution_count": 5,
     "metadata": {},
     "output_type": "execute_result"
    }
   ],
   "source": [
    "average_result(1000000, meet_first_round)"
   ]
  },
  {
   "cell_type": "code",
   "execution_count": 6,
   "id": "81a39b8e",
   "metadata": {},
   "outputs": [
    {
     "data": {
      "text/plain": [
       "0.321948"
      ]
     },
     "execution_count": 6,
     "metadata": {},
     "output_type": "execute_result"
    }
   ],
   "source": [
    "average_result(1000000, meet_first_round)"
   ]
  },
  {
   "cell_type": "code",
   "execution_count": 7,
   "id": "32a86978",
   "metadata": {},
   "outputs": [
    {
     "data": {
      "text/plain": [
       "0.733077"
      ]
     },
     "execution_count": 7,
     "metadata": {},
     "output_type": "execute_result"
    }
   ],
   "source": [
    "average_result(1000000, meet_second_round)"
   ]
  },
  {
   "cell_type": "code",
   "execution_count": 8,
   "id": "866f0888",
   "metadata": {},
   "outputs": [
    {
     "data": {
      "text/plain": [
       "0.733354"
      ]
     },
     "execution_count": 8,
     "metadata": {},
     "output_type": "execute_result"
    }
   ],
   "source": [
    "average_result(1000000, meet_second_round)"
   ]
  }
 ],
 "metadata": {
  "kernelspec": {
   "display_name": "Python 3 (ipykernel)",
   "language": "python",
   "name": "python3"
  },
  "language_info": {
   "codemirror_mode": {
    "name": "ipython",
    "version": 3
   },
   "file_extension": ".py",
   "mimetype": "text/x-python",
   "name": "python",
   "nbconvert_exporter": "python",
   "pygments_lexer": "ipython3",
   "version": "3.8.12"
  }
 },
 "nbformat": 4,
 "nbformat_minor": 5
}
